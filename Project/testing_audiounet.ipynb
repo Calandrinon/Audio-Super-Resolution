{
 "nbformat": 4,
 "nbformat_minor": 0,
 "metadata": {
  "colab": {
   "name": "testing-audiounet.ipynb",
   "provenance": []
  },
  "kernelspec": {
   "name": "python3",
   "display_name": "Python 3"
  },
  "language_info": {
   "name": "python"
  }
 },
 "cells": [
  {
   "cell_type": "code",
   "execution_count": null,
   "metadata": {
    "id": "Dq3NzSgqXM1y",
    "colab": {
     "base_uri": "https://localhost:8080/"
    },
    "outputId": "f4dcbae7-f971-423e-b54e-feba4af98131",
    "pycharm": {
     "is_executing": true
    }
   },
   "outputs": [],
   "source": [
    "from google.colab import drive\n",
    "drive.mount(\"/content/drive\")"
   ]
  },
  {
   "cell_type": "code",
   "source": [
    "!pip install tensorlayer"
   ],
   "metadata": {
    "id": "hPJ0Pm0uasdf",
    "colab": {
     "base_uri": "https://localhost:8080/"
    },
    "outputId": "101285f8-bba3-4216-d564-14f474f92c32",
    "pycharm": {
     "is_executing": true
    }
   },
   "execution_count": null,
   "outputs": []
  },
  {
   "cell_type": "code",
   "source": [
    "!unzip '/content/drive/My Drive/Audio-Super-Resolution/preprocessed_dataset.zip'"
   ],
   "metadata": {
    "id": "NV0ws0NaAjT4",
    "colab": {
     "base_uri": "https://localhost:8080/"
    },
    "outputId": "f3ef9f82-357d-4d80-a351-63c283ddca39",
    "pycharm": {
     "is_executing": true
    }
   },
   "execution_count": null,
   "outputs": []
  },
  {
   "cell_type": "code",
   "source": [
    "!cp /content/drive/My\\ Drive/Audio-Super-Resolution/*.py ."
   ],
   "metadata": {
    "id": "Xb8-C5oaB5Tm"
   },
   "execution_count": null,
   "outputs": []
  },
  {
   "cell_type": "code",
   "source": [
    "!cp -r /content/drive/My\\ Drive/Audio-Super-Resolution/checkpoints/ .\n",
    "!cp -r /content/drive/My\\ Drive/Audio-Super-Resolution/models/ .\n",
    "!cp -r /content/drive/My\\ Drive/Audio-Super-Resolution/outputs/ ."
   ],
   "metadata": {
    "id": "S-quncTlCziq"
   },
   "execution_count": null,
   "outputs": []
  },
  {
   "cell_type": "code",
   "source": [
    "!python testing.py"
   ],
   "metadata": {
    "colab": {
     "base_uri": "https://localhost:8080/"
    },
    "id": "E63QtMOgSjPL",
    "outputId": "77262751-dfda-4e0b-e5c3-8c00ec3dba24",
    "pycharm": {
     "is_executing": true
    }
   },
   "execution_count": null,
   "outputs": []
  }
 ]
}